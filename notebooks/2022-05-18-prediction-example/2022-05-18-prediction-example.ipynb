{
 "cells": [
  {
   "cell_type": "markdown",
   "metadata": {},
   "source": [
    "This notebook is for demonstrating how to use a trained PM2.5 prediction model to make predictions on a target area."
   ]
  },
  {
   "cell_type": "markdown",
   "metadata": {},
   "source": [
    "# Imports"
   ]
  },
  {
   "cell_type": "code",
   "execution_count": 172,
   "metadata": {},
   "outputs": [
    {
     "name": "stdout",
     "output_type": "stream",
     "text": [
      "The autoreload extension is already loaded. To reload it, use:\n",
      "  %reload_ext autoreload\n"
     ]
    }
   ],
   "source": [
    "%load_ext autoreload \n",
    "%autoreload 2\n",
    "\n",
    "import geopandas as gpd\n",
    "import re\n",
    "\n",
    "import joblib\n",
    "import numpy as np\n",
    "import pandas as pd\n",
    "\n",
    "import sys\n",
    "sys.path.append(\"../../\")\n",
    "\n",
    "from src.config import settings\n",
    "from src.data_processing import feature_collection_pipeline"
   ]
  },
  {
   "cell_type": "markdown",
   "metadata": {},
   "source": [
    "# Parameters"
   ]
  },
  {
   "cell_type": "code",
   "execution_count": 162,
   "metadata": {},
   "outputs": [],
   "source": [
    "\n",
    "# CSV file for target roll-out location\n",
    "CENTROIDS_PATH = \"data/chiang_mai_tile_centroids.csv\"\n",
    "# ID Column in the target CSV file\n",
    "ID_COL = \"id\"\n",
    "\n",
    "# Desired date range\n",
    "START_DATE = \"2019-03-01\"\n",
    "END_DATE = \"2019-03-30\"\n",
    "# Model being used was trained using 1km x 1km bounding box\n",
    "BBOX_SIZE_KM = 1\n",
    "\n",
    "# Path to the model to be used for prediction\n",
    "MODEL_PATH = settings.DATA_DIR / \"latest_model.pkl\"\n",
    "\n",
    "# Path to the population raster (In our study, we're using the Thai 2020 HRSL raster)\n",
    "HRSL_TIF = settings.DATA_DIR / \"tha_general_2020.tif\"\n",
    "\n",
    "# Where to save the model predictions of  daily PM2.5 levels\n",
    "OUTPUT_PREDICTIONS_FILE = settings.DATA_DIR / \"chiang_mai_march2019_predictions.csv\""
   ]
  },
  {
   "cell_type": "markdown",
   "metadata": {},
   "source": [
    "# Load Area of Interest"
   ]
  },
  {
   "cell_type": "code",
   "execution_count": 163,
   "metadata": {},
   "outputs": [],
   "source": [
    "def extract_lon_lat(wkt_string_point):\n",
    "    regex = r'[0-9-\\.]+'\n",
    "    parsed_geom = re.findall(regex, wkt_string_point)\n",
    "    parsed_geom = [float(i) for i in parsed_geom]\n",
    "    assert len(parsed_geom) == 2\n",
    "    return parsed_geom[0], parsed_geom[1]\n",
    "\n",
    "\n",
    "def load_centroids(centroids_path):\n",
    "    locations_gdf = gpd.read_file(centroids_path)\n",
    "    all_lon_lat = locations_gdf[\"WKT\"].apply(lambda x: extract_lon_lat(x)).tolist()\n",
    "    all_lon, all_lat = zip(*all_lon_lat)\n",
    "\n",
    "    locations_gdf[\"longitude\"] = all_lon\n",
    "    locations_gdf[\"latitude\"] = all_lat \n",
    "\n",
    "    locations_df = pd.DataFrame(locations_gdf)\n",
    "    locations_df.drop([\"geometry\", \"WKT\"], axis=1, inplace=True)\n",
    "\n",
    "    return locations_df\n",
    "    "
   ]
  },
  {
   "cell_type": "code",
   "execution_count": 164,
   "metadata": {},
   "outputs": [
    {
     "data": {
      "text/plain": [
       "206"
      ]
     },
     "execution_count": 164,
     "metadata": {},
     "output_type": "execute_result"
    }
   ],
   "source": [
    "locations_df = load_centroids(CENTROIDS_PATH)[:]\n",
    "len(locations_df)"
   ]
  },
  {
   "cell_type": "code",
   "execution_count": 165,
   "metadata": {},
   "outputs": [
    {
     "data": {
      "text/plain": [
       "Index(['id', 'left', 'top', 'right', 'bottom', 'Shape_Leng', 'Shape_Area',\n",
       "       'ADM3_EN', 'ADM3_TH', 'ADM3_PCODE', 'ADM3_REF', 'ADM3ALT1EN',\n",
       "       'ADM3ALT2EN', 'ADM3ALT1TH', 'ADM3ALT2TH', 'ADM2_EN', 'ADM2_TH',\n",
       "       'ADM2_PCODE', 'ADM1_EN', 'ADM1_TH', 'ADM1_PCODE', 'ADM0_EN', 'ADM0_TH',\n",
       "       'ADM0_PCODE', 'date', 'validOn', 'validTo', 'longitude', 'latitude'],\n",
       "      dtype='object')"
      ]
     },
     "execution_count": 165,
     "metadata": {},
     "output_type": "execute_result"
    }
   ],
   "source": [
    "locations_df.columns"
   ]
  },
  {
   "cell_type": "markdown",
   "metadata": {},
   "source": [
    "# Predict"
   ]
  },
  {
   "cell_type": "code",
   "execution_count": 166,
   "metadata": {},
   "outputs": [
    {
     "name": "stderr",
     "output_type": "stream",
     "text": [
      "2022-05-18 00:22:16.855 | INFO     | src.data_processing.feature_collection_pipeline:collect_features_for_locations:86 - Authenticating with GEE...\n",
      "2022-05-18 00:22:16.856 | DEBUG    | src.data_processing.gee.gee_utils:gee_auth:16 - /home/alron/unicef-ai4d-air-quality/data/unicef-ai4d-f1e103cbaeea.json\n",
      "2022-05-18 00:22:20.104 | INFO     | src.data_processing.feature_collection_pipeline:collect_features_for_locations:90 - Computing population sums...\n",
      "2022-05-18 00:22:22.737 | INFO     | src.data_processing.feature_collection_pipeline:collect_features_for_locations:96 - Collecting GEE datasets...\n",
      "2022-05-18 00:22:22.738 | INFO     | src.data_processing.feature_collection_pipeline:collect_gee_datasets:152 - Collecting GEE data (1 / 4): {'collection_id': 'COPERNICUS/S5P/OFFL/L3_AER_AI', 'bands': ['absorbing_aerosol_index'], 'preprocessors': [<function aggregate_daily_s5p_aerosol at 0x7f89db4d3440>]}\n"
     ]
    },
    {
     "name": "stdout",
     "output_type": "stream",
     "text": [
      "{'collection_id': 'COPERNICUS/S5P/OFFL/L3_AER_AI', 'bands': ['absorbing_aerosol_index'], 'preprocessors': [<function aggregate_daily_s5p_aerosol at 0x7f89db4d3440>]}\n"
     ]
    },
    {
     "data": {
      "application/vnd.jupyter.widget-view+json": {
       "model_id": "1127c96261204816b52ca00dfd1e4c19",
       "version_major": 2,
       "version_minor": 0
      },
      "text/plain": [
       "  0%|          | 0/206 [00:00<?, ?it/s]"
      ]
     },
     "metadata": {},
     "output_type": "display_data"
    },
    {
     "name": "stderr",
     "output_type": "stream",
     "text": [
      "2022-05-18 00:24:15.469 | INFO     | src.data_processing.feature_collection_pipeline:collect_gee_datasets:152 - Collecting GEE data (2 / 4): {'collection_id': 'ECMWF/CAMS/NRT', 'bands': ['total_aerosol_optical_depth_at_550nm_surface'], 'preprocessors': [<function rescale_cams_aod at 0x7f89db4d3320>, <function aggregate_daily_cams_aod at 0x7f89db4d33b0>]}\n"
     ]
    },
    {
     "name": "stdout",
     "output_type": "stream",
     "text": [
      "{'collection_id': 'ECMWF/CAMS/NRT', 'bands': ['total_aerosol_optical_depth_at_550nm_surface'], 'preprocessors': [<function rescale_cams_aod at 0x7f89db4d3320>, <function aggregate_daily_cams_aod at 0x7f89db4d33b0>]}\n"
     ]
    },
    {
     "data": {
      "application/vnd.jupyter.widget-view+json": {
       "model_id": "80686edcbacb45c3a60ba5811207af07",
       "version_major": 2,
       "version_minor": 0
      },
      "text/plain": [
       "  0%|          | 0/206 [00:00<?, ?it/s]"
      ]
     },
     "metadata": {},
     "output_type": "display_data"
    },
    {
     "name": "stderr",
     "output_type": "stream",
     "text": [
      "2022-05-18 00:26:21.903 | INFO     | src.data_processing.feature_collection_pipeline:collect_gee_datasets:152 - Collecting GEE data (3 / 4): {'collection_id': 'MODIS/006/MOD13A2', 'bands': ['NDVI', 'EVI'], 'preprocessors': [<function aggregate_daily_ndvi at 0x7f89db4d3b00>]}\n"
     ]
    },
    {
     "name": "stdout",
     "output_type": "stream",
     "text": [
      "{'collection_id': 'MODIS/006/MOD13A2', 'bands': ['NDVI', 'EVI'], 'preprocessors': [<function aggregate_daily_ndvi at 0x7f89db4d3b00>]}\n"
     ]
    },
    {
     "data": {
      "application/vnd.jupyter.widget-view+json": {
       "model_id": "c97cc146ca4c432a8f6075efaae26ce8",
       "version_major": 2,
       "version_minor": 0
      },
      "text/plain": [
       "  0%|          | 0/206 [00:00<?, ?it/s]"
      ]
     },
     "metadata": {},
     "output_type": "display_data"
    },
    {
     "name": "stderr",
     "output_type": "stream",
     "text": [
      "2022-05-18 00:27:34.517 | INFO     | src.data_processing.feature_collection_pipeline:collect_gee_datasets:152 - Collecting GEE data (4 / 4): {'collection_id': 'ECMWF/ERA5_LAND/HOURLY', 'bands': ['dewpoint_temperature_2m', 'temperature_2m', 'total_precipitation_hourly', 'u_component_of_wind_10m', 'v_component_of_wind_10m', 'surface_pressure'], 'preprocessors': [<function aggregate_daily_era5 at 0x7f89db4d3290>]}\n"
     ]
    },
    {
     "name": "stdout",
     "output_type": "stream",
     "text": [
      "{'collection_id': 'ECMWF/ERA5_LAND/HOURLY', 'bands': ['dewpoint_temperature_2m', 'temperature_2m', 'total_precipitation_hourly', 'u_component_of_wind_10m', 'v_component_of_wind_10m', 'surface_pressure'], 'preprocessors': [<function aggregate_daily_era5 at 0x7f89db4d3290>]}\n"
     ]
    },
    {
     "data": {
      "application/vnd.jupyter.widget-view+json": {
       "model_id": "ff22fb37bf224b62afff854a4e017287",
       "version_major": 2,
       "version_minor": 0
      },
      "text/plain": [
       "  0%|          | 0/206 [00:00<?, ?it/s]"
      ]
     },
     "metadata": {},
     "output_type": "display_data"
    }
   ],
   "source": [
    "# Create base DF from the locations (collect the necessary features)\n",
    "base_df = feature_collection_pipeline.collect_features_for_locations(\n",
    "    locations_df=locations_df,\n",
    "    start_date=START_DATE,\n",
    "    end_date=END_DATE,\n",
    "    id_col=ID_COL,\n",
    "    hrsl_tif=HRSL_TIF,\n",
    "    bbox_size_km=BBOX_SIZE_KM,\n",
    "    # Customized the list of GEE datasets because the latest model doesn't use MAIAC\n",
    "    gee_datasets=[\n",
    "        feature_collection_pipeline.S5P_AAI_CONFIG,\n",
    "        feature_collection_pipeline.CAMS_AOD_CONFIG,\n",
    "        feature_collection_pipeline.NDVI_CONFIG,\n",
    "        feature_collection_pipeline.ERA5_CONFIG,\n",
    "    ],\n",
    ")\n"
   ]
  },
  {
   "cell_type": "code",
   "execution_count": 167,
   "metadata": {},
   "outputs": [],
   "source": [
    "# Load Model\n",
    "model = joblib.load(MODEL_PATH)\n",
    "\n",
    "# Filter to only the relevant columns\n",
    "keep_cols = model.feature_names  # This was saved from the train script\n",
    "ml_df = base_df[keep_cols]\n",
    "\n",
    "# Run model\n",
    "preds = model.predict(ml_df)\n",
    "base_df[\"predicted_pm2.5\"] = preds\n",
    "base_df.to_csv(OUTPUT_PREDICTIONS_FILE, index=False)\n"
   ]
  },
  {
   "cell_type": "markdown",
   "metadata": {},
   "source": [
    "# Quick checks on predictions"
   ]
  },
  {
   "cell_type": "code",
   "execution_count": 173,
   "metadata": {},
   "outputs": [],
   "source": [
    "results_df = pd.read_csv(OUTPUT_PREDICTIONS_FILE)\n",
    "results_df = gpd.GeoDataFrame(results_df, geometry=gpd.points_from_xy(results_df.longitude, results_df.latitude))"
   ]
  },
  {
   "cell_type": "code",
   "execution_count": 176,
   "metadata": {},
   "outputs": [
    {
     "name": "stdout",
     "output_type": "stream",
     "text": [
      "Min:24.05 - Max:165.48; Mean=81.61\n"
     ]
    }
   ],
   "source": [
    "\n",
    "print(f\"Min:{min(preds):.2f} - Max:{max(preds):.2f}; Mean={np.mean(preds):.2f}\")"
   ]
  },
  {
   "cell_type": "code",
   "execution_count": null,
   "metadata": {},
   "outputs": [],
   "source": []
  }
 ],
 "metadata": {
  "interpreter": {
   "hash": "f119a2f45b9416104a7b14a7a406362aa7f140e2b9db775d95784a841e04883a"
  },
  "kernelspec": {
   "display_name": "Python 3.7.13 ('air-quality')",
   "language": "python",
   "name": "python3"
  },
  "language_info": {
   "codemirror_mode": {
    "name": "ipython",
    "version": 3
   },
   "file_extension": ".py",
   "mimetype": "text/x-python",
   "name": "python",
   "nbconvert_exporter": "python",
   "pygments_lexer": "ipython3",
   "version": "3.7.13"
  },
  "orig_nbformat": 4
 },
 "nbformat": 4,
 "nbformat_minor": 2
}
