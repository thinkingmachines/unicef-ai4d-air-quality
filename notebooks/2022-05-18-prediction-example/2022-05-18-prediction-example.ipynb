{
 "cells": [
  {
   "cell_type": "markdown",
   "metadata": {},
   "source": [
    "This notebook is for demonstrating how to use a trained PM2.5 prediction model to make predictions on a target area."
   ]
  },
  {
   "cell_type": "markdown",
   "metadata": {},
   "source": [
    "# Imports"
   ]
  },
  {
   "cell_type": "code",
   "execution_count": 67,
   "metadata": {},
   "outputs": [
    {
     "name": "stdout",
     "output_type": "stream",
     "text": [
      "The autoreload extension is already loaded. To reload it, use:\n",
      "  %reload_ext autoreload\n"
     ]
    }
   ],
   "source": [
    "%load_ext autoreload \n",
    "%autoreload 2\n",
    "\n",
    "import geopandas as gpd\n",
    "import re\n",
    "\n",
    "import joblib\n",
    "import numpy as np\n",
    "import pandas as pd\n",
    "\n",
    "import sys\n",
    "sys.path.append(\"../../\")\n",
    "\n",
    "from src.config import settings\n",
    "from src.data_processing import feature_collection_pipeline"
   ]
  },
  {
   "cell_type": "markdown",
   "metadata": {},
   "source": [
    "# Parameters"
   ]
  },
  {
   "cell_type": "code",
   "execution_count": 68,
   "metadata": {},
   "outputs": [],
   "source": [
    "\n",
    "# CSV file for target roll-out location\n",
    "# CENTROIDS_PATH = \"data/mueang_chiang_mai_tile_centroids.csv\"\n",
    "CENTROIDS_PATH = \"data/mueang_phuket_tile_centroids.csv\"\n",
    "\n",
    "\n",
    "# ID Column in the target CSV file\n",
    "ID_COL = \"id\"\n",
    "\n",
    "# Desired date range\n",
    "START_DATE = \"2019-03-01\"\n",
    "END_DATE = \"2019-03-31\"\n",
    "# Model being used was trained using 1km x 1km bounding box\n",
    "BBOX_SIZE_KM = 1\n",
    "\n",
    "# Path to the model to be used for prediction\n",
    "MODEL_PATH = settings.DATA_DIR / \"latest_model.pkl\"\n",
    "\n",
    "# Path to the population raster (In our study, we're using the Thai 2020 HRSL raster)\n",
    "HRSL_TIF = settings.DATA_DIR / \"tha_general_2020.tif\"\n",
    "\n",
    "# Where to save the model predictions of  daily PM2.5 levels\n",
    "OUTPUT_PREDICTIONS_FILE = \"data/phuket_march2019_predictions.csv\"\n",
    "\n",
    "# What to name the column for predictions\n",
    "PRED_COL = \"predicted_pm2.5\""
   ]
  },
  {
   "cell_type": "markdown",
   "metadata": {},
   "source": [
    "# Load Area of Interest"
   ]
  },
  {
   "cell_type": "code",
   "execution_count": 69,
   "metadata": {},
   "outputs": [],
   "source": [
    "def extract_lon_lat(wkt_string_point):\n",
    "    regex = r'[0-9-\\.]+'\n",
    "    parsed_geom = re.findall(regex, wkt_string_point)\n",
    "    parsed_geom = [float(i) for i in parsed_geom]\n",
    "    assert len(parsed_geom) == 2\n",
    "    return parsed_geom[0], parsed_geom[1]\n",
    "\n",
    "\n",
    "def load_centroids(centroids_path):\n",
    "    locations_gdf = gpd.read_file(centroids_path)\n",
    "    all_lon_lat = locations_gdf[\"WKT\"].apply(lambda x: extract_lon_lat(x)).tolist()\n",
    "    all_lon, all_lat = zip(*all_lon_lat)\n",
    "\n",
    "    locations_gdf[\"longitude\"] = all_lon\n",
    "    locations_gdf[\"latitude\"] = all_lat \n",
    "\n",
    "    locations_df = pd.DataFrame(locations_gdf)\n",
    "    locations_df.drop([\"geometry\", \"WKT\"], axis=1, inplace=True)\n",
    "\n",
    "    return locations_df\n",
    "    "
   ]
  },
  {
   "cell_type": "code",
   "execution_count": 70,
   "metadata": {},
   "outputs": [
    {
     "data": {
      "text/plain": [
       "192"
      ]
     },
     "execution_count": 70,
     "metadata": {},
     "output_type": "execute_result"
    }
   ],
   "source": [
    "locations_df = load_centroids(CENTROIDS_PATH)[:]\n",
    "len(locations_df)"
   ]
  },
  {
   "cell_type": "code",
   "execution_count": 71,
   "metadata": {},
   "outputs": [
    {
     "data": {
      "text/plain": [
       "Index(['id', 'left', 'top', 'right', 'bottom', 'Shape_Leng', 'Shape_Area',\n",
       "       'ADM3_EN', 'ADM3_TH', 'ADM3_PCODE', 'ADM3_REF', 'ADM3ALT1EN',\n",
       "       'ADM3ALT2EN', 'ADM3ALT1TH', 'ADM3ALT2TH', 'ADM2_EN', 'ADM2_TH',\n",
       "       'ADM2_PCODE', 'ADM1_EN', 'ADM1_TH', 'ADM1_PCODE', 'ADM0_EN', 'ADM0_TH',\n",
       "       'ADM0_PCODE', 'date', 'validOn', 'validTo', 'longitude', 'latitude'],\n",
       "      dtype='object')"
      ]
     },
     "execution_count": 71,
     "metadata": {},
     "output_type": "execute_result"
    }
   ],
   "source": [
    "locations_df.columns"
   ]
  },
  {
   "cell_type": "markdown",
   "metadata": {},
   "source": [
    "# Predict"
   ]
  },
  {
   "cell_type": "markdown",
   "metadata": {},
   "source": [
    "## Collect Features"
   ]
  },
  {
   "cell_type": "code",
   "execution_count": 72,
   "metadata": {},
   "outputs": [
    {
     "name": "stderr",
     "output_type": "stream",
     "text": [
      "2022-05-18 01:57:13.722 | INFO     | src.data_processing.feature_collection_pipeline:collect_features_for_locations:86 - Authenticating with GEE...\n",
      "2022-05-18 01:57:16.819 | INFO     | src.data_processing.feature_collection_pipeline:collect_features_for_locations:90 - Computing population sums...\n",
      "2022-05-18 01:57:19.556 | INFO     | src.data_processing.feature_collection_pipeline:collect_features_for_locations:96 - Collecting GEE datasets...\n",
      "2022-05-18 01:57:19.557 | INFO     | src.data_processing.feature_collection_pipeline:collect_gee_datasets:152 - Collecting GEE data (1 / 4): {'collection_id': 'COPERNICUS/S5P/OFFL/L3_AER_AI', 'bands': ['absorbing_aerosol_index'], 'preprocessors': [<function aggregate_daily_s5p_aerosol at 0x7fa19a5284d0>]}\n"
     ]
    },
    {
     "name": "stdout",
     "output_type": "stream",
     "text": [
      "{'collection_id': 'COPERNICUS/S5P/OFFL/L3_AER_AI', 'bands': ['absorbing_aerosol_index'], 'preprocessors': [<function aggregate_daily_s5p_aerosol at 0x7fa19a5284d0>]}\n"
     ]
    },
    {
     "data": {
      "application/vnd.jupyter.widget-view+json": {
       "model_id": "3812a81add374f4d809f05323c81adee",
       "version_major": 2,
       "version_minor": 0
      },
      "text/plain": [
       "  0%|          | 0/192 [00:00<?, ?it/s]"
      ]
     },
     "metadata": {},
     "output_type": "display_data"
    },
    {
     "name": "stderr",
     "output_type": "stream",
     "text": [
      "2022-05-18 01:59:01.450 | INFO     | src.data_processing.feature_collection_pipeline:collect_gee_datasets:152 - Collecting GEE data (2 / 4): {'collection_id': 'ECMWF/CAMS/NRT', 'bands': ['total_aerosol_optical_depth_at_550nm_surface'], 'preprocessors': [<function rescale_cams_aod at 0x7fa19a5283b0>, <function aggregate_daily_cams_aod at 0x7fa19a528440>]}\n"
     ]
    },
    {
     "name": "stdout",
     "output_type": "stream",
     "text": [
      "{'collection_id': 'ECMWF/CAMS/NRT', 'bands': ['total_aerosol_optical_depth_at_550nm_surface'], 'preprocessors': [<function rescale_cams_aod at 0x7fa19a5283b0>, <function aggregate_daily_cams_aod at 0x7fa19a528440>]}\n"
     ]
    },
    {
     "data": {
      "application/vnd.jupyter.widget-view+json": {
       "model_id": "9973d5340ca446b5957f8c0114ea85cf",
       "version_major": 2,
       "version_minor": 0
      },
      "text/plain": [
       "  0%|          | 0/192 [00:00<?, ?it/s]"
      ]
     },
     "metadata": {},
     "output_type": "display_data"
    },
    {
     "name": "stderr",
     "output_type": "stream",
     "text": [
      "2022-05-18 02:01:24.156 | INFO     | src.data_processing.feature_collection_pipeline:collect_gee_datasets:152 - Collecting GEE data (3 / 4): {'collection_id': 'MODIS/006/MOD13A2', 'bands': ['NDVI', 'EVI'], 'preprocessors': [<function aggregate_daily_ndvi at 0x7fa19962cc20>]}\n"
     ]
    },
    {
     "name": "stdout",
     "output_type": "stream",
     "text": [
      "{'collection_id': 'MODIS/006/MOD13A2', 'bands': ['NDVI', 'EVI'], 'preprocessors': [<function aggregate_daily_ndvi at 0x7fa19962cc20>]}\n"
     ]
    },
    {
     "data": {
      "application/vnd.jupyter.widget-view+json": {
       "model_id": "4a99ee0b23eb4b728f94ddcaaf54f05f",
       "version_major": 2,
       "version_minor": 0
      },
      "text/plain": [
       "  0%|          | 0/192 [00:00<?, ?it/s]"
      ]
     },
     "metadata": {},
     "output_type": "display_data"
    },
    {
     "name": "stderr",
     "output_type": "stream",
     "text": [
      "2022-05-18 02:02:43.601 | INFO     | src.data_processing.feature_collection_pipeline:collect_gee_datasets:152 - Collecting GEE data (4 / 4): {'collection_id': 'ECMWF/ERA5_LAND/HOURLY', 'bands': ['dewpoint_temperature_2m', 'temperature_2m', 'total_precipitation_hourly', 'u_component_of_wind_10m', 'v_component_of_wind_10m', 'surface_pressure'], 'preprocessors': [<function aggregate_daily_era5 at 0x7fa19a528320>]}\n"
     ]
    },
    {
     "name": "stdout",
     "output_type": "stream",
     "text": [
      "{'collection_id': 'ECMWF/ERA5_LAND/HOURLY', 'bands': ['dewpoint_temperature_2m', 'temperature_2m', 'total_precipitation_hourly', 'u_component_of_wind_10m', 'v_component_of_wind_10m', 'surface_pressure'], 'preprocessors': [<function aggregate_daily_era5 at 0x7fa19a528320>]}\n"
     ]
    },
    {
     "data": {
      "application/vnd.jupyter.widget-view+json": {
       "model_id": "c59c00c331b642ac95dd690baba11d31",
       "version_major": 2,
       "version_minor": 0
      },
      "text/plain": [
       "  0%|          | 0/192 [00:00<?, ?it/s]"
      ]
     },
     "metadata": {},
     "output_type": "display_data"
    }
   ],
   "source": [
    "# Create base DF from the locations (collect the necessary features)\n",
    "base_df = feature_collection_pipeline.collect_features_for_locations(\n",
    "    locations_df=locations_df,\n",
    "    start_date=START_DATE,\n",
    "    end_date=END_DATE,\n",
    "    id_col=ID_COL,\n",
    "    hrsl_tif=HRSL_TIF,\n",
    "    bbox_size_km=BBOX_SIZE_KM,\n",
    "    # Customized the list of GEE datasets because the latest model doesn't use MAIAC\n",
    "    gee_datasets=[\n",
    "        feature_collection_pipeline.S5P_AAI_CONFIG,\n",
    "        feature_collection_pipeline.CAMS_AOD_CONFIG,\n",
    "        feature_collection_pipeline.NDVI_CONFIG,\n",
    "        feature_collection_pipeline.ERA5_CONFIG,\n",
    "    ],\n",
    ")\n"
   ]
  },
  {
   "cell_type": "code",
   "execution_count": 73,
   "metadata": {},
   "outputs": [],
   "source": [
    "# Load Model\n",
    "model = joblib.load(MODEL_PATH)\n",
    "\n",
    "# Filter to only the relevant columns\n",
    "keep_cols = model.feature_names  # This was saved from the train script\n",
    "ml_df = base_df[keep_cols]\n",
    "\n",
    "# Run model\n",
    "preds = model.predict(ml_df)\n",
    "base_df[PRED_COL] = preds\n",
    "base_df.to_csv(OUTPUT_PREDICTIONS_FILE, index=False)\n"
   ]
  },
  {
   "cell_type": "markdown",
   "metadata": {},
   "source": [
    "# Quick checks on predictions\n",
    "\n",
    "We print out quick summary stats and plot the histogram of predicted pm2.5 values for the district of Chiang Mai and Phuket. \n",
    "\n",
    "It was known that Chiang Mai in March 2019 had poor air quality due to burning season. \n",
    "\n",
    "On the other hand, we expect the air at Phuket to be cleaner since it is far away from agricultural lands that are burned."
   ]
  },
  {
   "cell_type": "code",
   "execution_count": 80,
   "metadata": {},
   "outputs": [
    {
     "name": "stdout",
     "output_type": "stream",
     "text": [
      "Min:24.05 - Max:165.48; Mean=81.61\n"
     ]
    },
    {
     "data": {
      "text/plain": [
       "<AxesSubplot:>"
      ]
     },
     "execution_count": 80,
     "metadata": {},
     "output_type": "execute_result"
    },
    {
     "data": {
      "image/png": "[encoded data removed]",
      "text/plain": [
       "<Figure size 432x288 with 1 Axes>"
      ]
     },
     "metadata": {
      "needs_background": "light"
     },
     "output_type": "display_data"
    }
   ],
   "source": [
    "# Check predictions for Chiang Mai in March 2019\n",
    "\n",
    "results_df = pd.read_csv(\"data/chiang_mai_march2019_predictions.csv\")\n",
    "results_df = gpd.GeoDataFrame(results_df, geometry=gpd.points_from_xy(results_df.longitude, results_df.latitude))\n",
    "preds = results_df[PRED_COL]\n",
    "print(f\"Min:{min(preds):.2f} - Max:{max(preds):.2f}; Mean={np.mean(preds):.2f}\")\n",
    "results_df[PRED_COL].hist()"
   ]
  },
  {
   "cell_type": "code",
   "execution_count": 81,
   "metadata": {},
   "outputs": [
    {
     "name": "stdout",
     "output_type": "stream",
     "text": [
      "Min:-1.79 - Max:119.45; Mean=32.73\n"
     ]
    },
    {
     "data": {
      "text/plain": [
       "<AxesSubplot:>"
      ]
     },
     "execution_count": 81,
     "metadata": {},
     "output_type": "execute_result"
    },
    {
     "data": {
      "image/png": "[encoded data removed]",
      "text/plain": [
       "<Figure size 432x288 with 1 Axes>"
      ]
     },
     "metadata": {
      "needs_background": "light"
     },
     "output_type": "display_data"
    }
   ],
   "source": [
    "# Check predictions for Phuket in March 2019\n",
    "\n",
    "results_df = pd.read_csv(\"data/phuket_march2019_predictions.csv\")\n",
    "results_df = gpd.GeoDataFrame(results_df, geometry=gpd.points_from_xy(results_df.longitude, results_df.latitude))\n",
    "preds = results_df[PRED_COL]\n",
    "print(f\"Min:{min(preds):.2f} - Max:{max(preds):.2f}; Mean={np.mean(preds):.2f}\")\n",
    "results_df[PRED_COL].hist()"
   ]
  },
  {
   "cell_type": "code",
   "execution_count": null,
   "metadata": {},
   "outputs": [],
   "source": []
  }
 ],
 "metadata": {
  "interpreter": {
   "hash": "f119a2f45b9416104a7b14a7a406362aa7f140e2b9db775d95784a841e04883a"
  },
  "kernelspec": {
   "display_name": "Python 3.7.13 ('air-quality')",
   "language": "python",
   "name": "python3"
  },
  "language_info": {
   "codemirror_mode": {
    "name": "ipython",
    "version": 3
   },
   "file_extension": ".py",
   "mimetype": "text/x-python",
   "name": "python",
   "nbconvert_exporter": "python",
   "pygments_lexer": "ipython3",
   "version": "3.7.13"
  },
  "orig_nbformat": 4
 },
 "nbformat": 4,
 "nbformat_minor": 2
}
